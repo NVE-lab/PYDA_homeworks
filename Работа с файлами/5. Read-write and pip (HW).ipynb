{
 "cells": [
  {
   "cell_type": "markdown",
   "metadata": {},
   "source": [
    "# Домашнее задание\n",
    "1. Переведите содержимое файла purchase_log.txt в словарь purchases вида:\n",
    "```python\n",
    "{'1840e0b9d4': 'Продукты', ...}\n",
    "```\n",
    "\n",
    "2. Для каждого user_id в файле visit_log.csv определите третий столбец с категорией покупки (если покупка была, сам файл visit_log.csv изменять не надо). Запишите в файл funnel.csv визиты из файла visit_log.csv, в которых были покупки с указанием категории.\n",
    "\n",
    "Учтите условия на данные:\n",
    "- содержимое purchase_log.txt помещается в оперативную память компьютера\n",
    "- содержимое visit_log.csv - нет; используйте только построчную обработку этого файла"
   ]
  },
  {
   "cell_type": "code",
   "execution_count": 1,
   "metadata": {},
   "outputs": [],
   "source": [
    "import json\n",
    "purchase_dict = {}\n",
    "with open('purchase_log.txt', encoding = 'utf-8') as f:\n",
    "    for line in f:\n",
    "        line = line.strip()\n",
    "        purchase_dict[json.loads(line)['user_id']] = json.loads(line)['category']\n"
   ]
  },
  {
   "cell_type": "code",
   "execution_count": 2,
   "metadata": {},
   "outputs": [],
   "source": [
    "with open ('visit_log.csv', 'r') as vl:\n",
    "    with open('funnel.csv', 'w') as fl:\n",
    "        for line in vl:\n",
    "            list_ = line.strip().split(',')\n",
    "            if list_[0] in purchase_dict:\n",
    "                list_.append(purchase_dict[list_[0]])\n",
    "                fl.write(json.dumps(list_, ensure_ascii=False) + '\\n')    \n",
    "    "
   ]
  },
  {
   "cell_type": "code",
   "execution_count": 1,
   "metadata": {},
   "outputs": [
    {
     "data": {
      "text/plain": [
       "['[\"user_id\", \"source\", \"category\"]\\n',\n",
       " '[\"1840e0b9d4\", \"other\", \"Продукты\"]\\n',\n",
       " '[\"4e4f90fcfb\", \"context\", \"Электроника\"]\\n',\n",
       " '[\"afea8d72fc\", \"other\", \"Электроника\"]\\n',\n",
       " '[\"2824221f38\", \"email\", \"Продукты\"]\\n']"
      ]
     },
     "execution_count": 1,
     "metadata": {},
     "output_type": "execute_result"
    }
   ],
   "source": [
    "# Проверка\n",
    "f = open ('funnel.csv')\n",
    "[f.readline() for _ in range(5)]"
   ]
  },
  {
   "cell_type": "code",
   "execution_count": null,
   "metadata": {},
   "outputs": [],
   "source": []
  }
 ],
 "metadata": {
  "kernelspec": {
   "display_name": "Python 3",
   "language": "python",
   "name": "python3"
  },
  "language_info": {
   "codemirror_mode": {
    "name": "ipython",
    "version": 3
   },
   "file_extension": ".py",
   "mimetype": "text/x-python",
   "name": "python",
   "nbconvert_exporter": "python",
   "pygments_lexer": "ipython3",
   "version": "3.7.6"
  }
 },
 "nbformat": 4,
 "nbformat_minor": 2
}
