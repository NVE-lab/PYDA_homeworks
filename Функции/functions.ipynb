{
 "cells": [
  {
   "cell_type": "markdown",
   "metadata": {},
   "source": [
    "Вы работаете секретарем и вам постоянно приходят различные документы. Вы должны быть очень внимательны, чтобы не потерять ни один документ. Каталог документов хранится в следующем виде:"
   ]
  },
  {
   "cell_type": "code",
   "execution_count": null,
   "metadata": {},
   "outputs": [],
   "source": [
    "documents = [\n",
    "    {'type': 'passport', 'number': '2207 876234', 'name': 'Василий Гупкин'},\n",
    "    {'type': 'invoice', 'number': '11-2', 'name': 'Геннадий Покемонов'},\n",
    "    {'type': 'insurance', 'number': '10006', 'name': 'Аристарх Павлов'}\n",
    "]"
   ]
  },
  {
   "cell_type": "markdown",
   "metadata": {},
   "source": [
    "Перечень полок, на которых находятся документы хранится в следующем виде:"
   ]
  },
  {
   "cell_type": "code",
   "execution_count": null,
   "metadata": {},
   "outputs": [],
   "source": [
    "directories = {\n",
    "    '1': ['2207 876234', '11-2'],\n",
    "    '2': ['10006'],\n",
    "    '3': []\n",
    "}"
   ]
  },
  {
   "cell_type": "markdown",
   "metadata": {},
   "source": [
    "Необходимо реализовать пользовательские команды (внимание! это не название функций, которые должны быть выразительными, а команды, которые вводит пользователь, чтобы получить необходимый результат):\n",
    "  \n",
    "- p – people – команда, которая спросит номер документа и выведет имя человека, которому он принадлежит;  \n",
    "- s – shelf – команда, которая спросит номер документа и выведет номер полки, на которой он находится  \n",
    "*Правильно обработайте ситуации, когда пользователь будет вводить несуществующий документ*.\n",
    "- l – list – команда, которая выведет список всех документов в формате   \n",
    "**passport \"2207 876234\" \"Василий Гупкин\"**  \n",
    "- as – add shelf – команда, которая спросит номер новой полки и добавит ее в перечень. *Предусмотрите случай, когда пользователь добавляет полку, которая уже существует*.\n",
    "- d – delete – команда, которая спросит номер документа и удалит его из каталога и из перечня полок. *Предусмотрите сценарий, когда пользователь вводит несуществующий документ*;  \n",
    "- m – move – команда, которая спросит номер документа и целевую полку и переместит его с текущей полки на целевую. *Корректно обработайте кейсы, когда пользователь пытается переместить несуществующий документ или переместить документ на несуществующую полку*;  \n",
    "- a – add – команда, которая добавит новый документ в каталог и в перечень полок, спросив его номер, тип, имя владельца и номер полки, на котором он будет храниться. *Корректно обработайте ситуацию, когда пользователь будет пытаться добавить документ на несуществующую полку*."
   ]
  },
  {
   "cell_type": "code",
   "execution_count": null,
   "metadata": {},
   "outputs": [],
   "source": [
    "#p – people – команда, которая спросит номер документа и выведет имя человека, которому он принадлежит; \n",
    "def p():\n",
    "    user_input = input('Введите номер документа: ')\n",
    "    for doc in documents:\n",
    "        if doc['number'] == user_input:\n",
    "            print ('Имя: ', doc['name'])\n",
    "            break\n",
    "    else:\n",
    "        print ('Документ не найден.')"
   ]
  },
  {
   "cell_type": "code",
   "execution_count": null,
   "metadata": {},
   "outputs": [],
   "source": [
    "#s – shelf – команда, которая спросит номер документа и выведет номер полки, на которой он находится\n",
    "#Правильно обработайте ситуации, когда пользователь будет вводить несуществующий документ.\n",
    "def s():\n",
    "    user_input = input('Введите номер документа: ')\n",
    "    f = False\n",
    "    for s_dir in directories.items():\n",
    "        for doc_num in s_dir[1]:\n",
    "            if user_input == doc_num:\n",
    "                print('Документ находится на полке номер ', s_dir[0])\n",
    "                f = True\n",
    "                break\n",
    "        if f == True:\n",
    "            break\n",
    "    else:\n",
    "        print('Документ не найден.')"
   ]
  },
  {
   "cell_type": "code",
   "execution_count": null,
   "metadata": {},
   "outputs": [],
   "source": [
    "#l – list – команда, которая выведет список всех документов в формате\n",
    "#passport \"2207 876234\" \"Василий Гупкин\"\n",
    "def l():\n",
    "    for people in documents:\n",
    "        print(people['type'], ' \"', people['number'], '\" ', '\"', people['name'], '\"', sep = '')"
   ]
  },
  {
   "cell_type": "code",
   "execution_count": null,
   "metadata": {},
   "outputs": [],
   "source": [
    "#as – add shelf – команда, которая спросит номер новой полки и добавит ее в перечень.\n",
    "#Предусмотрите случай, когда пользователь добавляет полку, которая уже существует.\n",
    "def ads():\n",
    "    user_input = input('Введите номер новой полки: ')\n",
    "    f = False\n",
    "    for k in directories.items():\n",
    "        for sh_num in k:\n",
    "            if sh_num == user_input:\n",
    "                print('Такая полка уже существует.')\n",
    "                f = True\n",
    "                break\n",
    "        if f == True:\n",
    "            break\n",
    "    else:\n",
    "        directories[user_input] = []\n",
    "        print('Номер новой полки добавлен.')"
   ]
  },
  {
   "cell_type": "code",
   "execution_count": null,
   "metadata": {},
   "outputs": [],
   "source": [
    "#d – delete – команда, которая спросит номер документа и удалит его из каталога и из перечня полок.\n",
    "#Предусмотрите сценарий, когда пользователь вводит несуществующий документ.\n",
    "def d():\n",
    "    user_input = input('Введите номер документа для удаления из реестра: ')\n",
    "    f = False\n",
    "    for doc in documents:\n",
    "        if doc['number'] == user_input:\n",
    "            documents.remove(doc)\n",
    "            for s_dir in directories.items():\n",
    "                for doc_num in s_dir[1]:\n",
    "                    if doc_num == user_input:\n",
    "                        s_dir[1].remove(user_input)\n",
    "                        f = True\n",
    "                        break\n",
    "    if f == True:\n",
    "        print('Документ удален из реестра.')\n",
    "    else:\n",
    "        print('Документ не найден.')"
   ]
  },
  {
   "cell_type": "code",
   "execution_count": null,
   "metadata": {},
   "outputs": [],
   "source": []
  },
  {
   "cell_type": "code",
   "execution_count": null,
   "metadata": {},
   "outputs": [],
   "source": [
    "#m – move – команда, которая спросит номер документа и целевую полку и переместит его с текущей полки на целевую.\n",
    "#Корректно обработайте кейсы, когда пользователь пытается переместить несуществующий документ или\n",
    "#переместить документ на несуществующую полку.\n",
    "\n",
    "def m():\n",
    "    dn_input = input('Введите номер документа для перемещения: ')\n",
    "    sn_input = input('Введите номер новой полки для хранения документа: ')\n",
    "    f = False\n",
    "\n",
    "    if sn_input not in directories:\n",
    "        print('Неверный номер полки для хранения.')\n",
    "    else:\n",
    "        for s_dir, s_val in directories.items():\n",
    "            if dn_input in s_val:\n",
    "                directories[sn_input].append(dn_input)\n",
    "                s_val.remove(dn_input)\n",
    "                f = True\n",
    "        if f == True:\n",
    "            print('Документ перемещен.')\n",
    "        else:\n",
    "            print('Неверный номер документа.')"
   ]
  },
  {
   "cell_type": "code",
   "execution_count": null,
   "metadata": {},
   "outputs": [],
   "source": []
  },
  {
   "cell_type": "code",
   "execution_count": null,
   "metadata": {},
   "outputs": [],
   "source": [
    "#a – add – команда, которая добавит новый документ в каталог и в перечень полок,\n",
    "#спросив его номер, тип, имя владельца и номер полки, на котором он будет храниться.\n",
    "#Корректно обработайте ситуацию, когда пользователь будет пытаться добавить документ на несуществующую полку.\n",
    "\n",
    "def a():\n",
    "    dn_input = input('Введите номер нового документа: ')\n",
    "    dt_input = input('Введите тип документа: ')\n",
    "    pn_input = input('Введите имя владельца документа: ')\n",
    "    sn_input = input('Введите номер полки хранения документа: ')\n",
    "    for shelf_no, doc_num in directories.items():\n",
    "        if shelf_no == sn_input:\n",
    "            documents.append({\"type\": dt_input, \"number\": dn_input, \"name\": pn_input})\n",
    "            doc_num.append(dn_input)\n",
    "            break\n",
    "    else:\n",
    "        print('Неверный номер полки для хранения.')\n"
   ]
  },
  {
   "cell_type": "code",
   "execution_count": null,
   "metadata": {},
   "outputs": [],
   "source": [
    " while True:\n",
    "        user_input = input('Введите одну из возможных команд (p, s, l, ads, d, m, a): ')\n",
    "        if user_input == 'p':\n",
    "            p()\n",
    "        elif user_input == 's':\n",
    "            s() \n",
    "        elif user_input == 'l':\n",
    "            l()\n",
    "        elif user_input == 'ads':\n",
    "            ads()\n",
    "            print(directories)\n",
    "        elif user_input == 'd':\n",
    "            d()\n",
    "            print(directories)\n",
    "            print(documents)\n",
    "        elif user_input == 'm':\n",
    "            m()\n",
    "            print(directories)\n",
    "        elif user_input == 'a':\n",
    "            a()\n",
    "            print ('Отчет:')\n",
    "            print(documents)\n",
    "            print(directories)\n",
    "        else:\n",
    "            print ('До встречи!')\n",
    "            break"
   ]
  },
  {
   "cell_type": "code",
   "execution_count": null,
   "metadata": {},
   "outputs": [],
   "source": []
  }
 ],
 "metadata": {
  "kernelspec": {
   "display_name": "Python 3",
   "language": "python",
   "name": "python3"
  },
  "language_info": {
   "codemirror_mode": {
    "name": "ipython",
    "version": 3
   },
   "file_extension": ".py",
   "mimetype": "text/x-python",
   "name": "python",
   "nbconvert_exporter": "python",
   "pygments_lexer": "ipython3",
   "version": "3.7.6"
  }
 },
 "nbformat": 4,
 "nbformat_minor": 2
}
